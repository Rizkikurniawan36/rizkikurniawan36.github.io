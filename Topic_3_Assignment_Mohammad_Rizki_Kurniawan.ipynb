{
  "nbformat": 4,
  "nbformat_minor": 0,
  "metadata": {
    "colab": {
      "provenance": [],
      "collapsed_sections": [],
      "include_colab_link": true
    },
    "kernelspec": {
      "name": "python3",
      "display_name": "Python 3"
    },
    "language_info": {
      "name": "python"
    }
  },
  "cells": [
    {
      "cell_type": "markdown",
      "metadata": {
        "id": "view-in-github",
        "colab_type": "text"
      },
      "source": [
        "<a href=\"https://colab.research.google.com/github/Rizkikurniawan36/rizkikurniawan36.github.io/blob/main/Topic_3_Assignment_Mohammad_Rizki_Kurniawan.ipynb\" target=\"_parent\"><img src=\"https://colab.research.google.com/assets/colab-badge.svg\" alt=\"Open In Colab\"/></a>"
      ]
    },
    {
      "cell_type": "markdown",
      "source": [
        "##Topic 3 - Python Structure & Data Type Assignment\n"
      ],
      "metadata": {
        "id": "f6LjKU50-tD8"
      }
    },
    {
      "cell_type": "markdown",
      "source": [
        "# Data Type Declaration"
      ],
      "metadata": {
        "id": "MPuR878HZEbx"
      }
    },
    {
      "cell_type": "markdown",
      "source": [
        "1. > Create an empty variable (Points : 5)"
      ],
      "metadata": {
        "id": "GyS5I54D-3K9"
      }
    },
    {
      "cell_type": "code",
      "source": [
        "#Code goes here"
      ],
      "metadata": {
        "id": "jehesBY-_aKL"
      },
      "execution_count": null,
      "outputs": []
    },
    {
      "cell_type": "code",
      "source": [
        "nama=\"\""
      ],
      "metadata": {
        "id": "slz4bB5UGORh"
      },
      "execution_count": null,
      "outputs": []
    },
    {
      "cell_type": "code",
      "source": [
        "print(nama)"
      ],
      "metadata": {
        "colab": {
          "base_uri": "https://localhost:8080/"
        },
        "id": "k9EGN3AFGSeB",
        "outputId": "5bea4700-b672-4de4-bfad-d90b48676741"
      },
      "execution_count": null,
      "outputs": [
        {
          "output_type": "stream",
          "name": "stdout",
          "text": [
            "\n"
          ]
        }
      ]
    },
    {
      "cell_type": "markdown",
      "source": [
        "2. > Create a variable containing your name (Points : 5)"
      ],
      "metadata": {
        "id": "6zCz3qZ8_bu2"
      }
    },
    {
      "cell_type": "code",
      "source": [
        "#nama : Mohammad Rizki Kurniawan\n",
        "first_name=\"Mohammad Rizki\"\n",
        "last_name=\" Kurniawan\"\n",
        "full_name=(first_name+last_name)"
      ],
      "metadata": {
        "id": "1wT8jnI6_f-U"
      },
      "execution_count": null,
      "outputs": []
    },
    {
      "cell_type": "code",
      "source": [
        "print(full_name)"
      ],
      "metadata": {
        "colab": {
          "base_uri": "https://localhost:8080/"
        },
        "id": "SNjzq5lV2XmB",
        "outputId": "0f921751-7039-44dc-bf94-8c7c032a65ee"
      },
      "execution_count": null,
      "outputs": [
        {
          "output_type": "stream",
          "name": "stdout",
          "text": [
            "Mohammad Rizki Kurniawan\n"
          ]
        }
      ]
    },
    {
      "cell_type": "markdown",
      "source": [
        "3. > Create a list of 5 items you can find in the classroom (Points : 5)"
      ],
      "metadata": {
        "id": "ApatE8m__2Ud"
      }
    },
    {
      "cell_type": "code",
      "source": [
        "#Classrooom\n",
        "new_list=[\"eraser\",\"pulpen\",\"white board\",\"chair\",\"table\"]\n",
        "print(new_list)"
      ],
      "metadata": {
        "id": "-Q0Ynqx1_6hF",
        "colab": {
          "base_uri": "https://localhost:8080/"
        },
        "outputId": "d117b332-34bb-40f0-d108-21646eb984aa"
      },
      "execution_count": null,
      "outputs": [
        {
          "output_type": "stream",
          "name": "stdout",
          "text": [
            "['eraser', 'pulpen', 'white board', 'chair', 'table']\n"
          ]
        }
      ]
    },
    {
      "cell_type": "markdown",
      "source": [
        "4. > Create a dictionary containing 2 keys and value (Points : 5)"
      ],
      "metadata": {
        "id": "6FwMmy_9AS5N"
      }
    },
    {
      "cell_type": "code",
      "source": [
        "#Dictionary\n",
        "handphone={\n",
        "    \"brand\":[\"asus\",\"samsung\",\"xiaomi\",\"oppo\"],\n",
        "    \"color\":[\"red\",\"black\",\"green\",\"yellow\"],\n",
        "    \"quantity\":[\"3\",\"4\",\"6\",\"10\"]\n",
        "}"
      ],
      "metadata": {
        "id": "xLc2AlhtASOm"
      },
      "execution_count": null,
      "outputs": []
    },
    {
      "cell_type": "code",
      "source": [
        "handphone"
      ],
      "metadata": {
        "colab": {
          "base_uri": "https://localhost:8080/"
        },
        "id": "BjfDvyjK3f6h",
        "outputId": "9b9fdb6f-8b4a-424c-8a98-14bd29c132a7"
      },
      "execution_count": null,
      "outputs": [
        {
          "output_type": "execute_result",
          "data": {
            "text/plain": [
              "{'brand': ['asus', 'samsung', 'xiaomi', 'oppo'],\n",
              " 'color': ['red', 'black', 'green', 'yellow'],\n",
              " 'quantity': ['3', '4', '6', '10']}"
            ]
          },
          "metadata": {},
          "execution_count": 7
        }
      ]
    },
    {
      "cell_type": "markdown",
      "source": [
        "# Basic Data Operation"
      ],
      "metadata": {
        "id": "6AqPfAS7a1Oi"
      }
    },
    {
      "cell_type": "markdown",
      "source": [
        "You sold 20 pieces of electronics at the price of 12000. The customer gets a total discount of 10%.\n",
        "\n",
        "Below are those variables:\n",
        "\n",
        "1.   price=12000\n",
        "2.   quantity_sold=20\n",
        "3.   discount=10%\n",
        "\n",
        "\n",
        "Using Python code, write the code the find the total money that the customer to pay. (Points : 15)"
      ],
      "metadata": {
        "id": "-ZZF1cXlbqkJ"
      }
    },
    {
      "cell_type": "code",
      "source": [
        "#Basic data operation"
      ],
      "metadata": {
        "id": "90T0A2HvbcCK"
      },
      "execution_count": null,
      "outputs": []
    },
    {
      "cell_type": "code",
      "source": [
        "price=12000\n",
        "quantity_sold=20\n",
        "discount=10/100"
      ],
      "metadata": {
        "id": "u5G1ggtJ35Zc"
      },
      "execution_count": null,
      "outputs": []
    },
    {
      "cell_type": "code",
      "source": [
        "(price * quantity_sold) * (1 - discount)"
      ],
      "metadata": {
        "colab": {
          "base_uri": "https://localhost:8080/"
        },
        "id": "dgCgLyc9922p",
        "outputId": "ce7a7089-57f8-4c01-e51b-421418d89967"
      },
      "execution_count": null,
      "outputs": [
        {
          "output_type": "execute_result",
          "data": {
            "text/plain": [
              "216000.0"
            ]
          },
          "metadata": {},
          "execution_count": 9
        }
      ]
    },
    {
      "cell_type": "markdown",
      "source": [
        "# List Data Operation"
      ],
      "metadata": {
        "id": "G-HHsg4la6mJ"
      }
    },
    {
      "cell_type": "markdown",
      "source": [
        "5. > Follow the instructions in the code blocks\n",
        "\n",
        "\n",
        "\n"
      ],
      "metadata": {
        "id": "NdoSjVZ4Zbqg"
      }
    },
    {
      "cell_type": "code",
      "source": [
        "# Create list of countries in the world (total 7 countries) (Points : 5)\n",
        "\n",
        "#Code goes here"
      ],
      "metadata": {
        "id": "xsFxlZGLaQ7y"
      },
      "execution_count": null,
      "outputs": []
    },
    {
      "cell_type": "code",
      "source": [
        "country=[\"indonesia\",\"spain\",\"singapore\",\"japan\",\"usa\",\"india\",\"mexico\"]\n"
      ],
      "metadata": {
        "id": "xtvs82kK6p_J"
      },
      "execution_count": null,
      "outputs": []
    },
    {
      "cell_type": "code",
      "source": [
        "# Get 4 countries from the first index of the list (Points : 5)\n",
        "\n",
        "#Code goes here"
      ],
      "metadata": {
        "id": "6Se125DabJ6R"
      },
      "execution_count": null,
      "outputs": []
    },
    {
      "cell_type": "code",
      "source": [
        "country[:4]"
      ],
      "metadata": {
        "colab": {
          "base_uri": "https://localhost:8080/"
        },
        "id": "oSOvCCNP7RIy",
        "outputId": "18c0e6ec-23db-48f2-ef7e-51cca9ce75cb"
      },
      "execution_count": null,
      "outputs": [
        {
          "output_type": "execute_result",
          "data": {
            "text/plain": [
              "['indonesia', 'spain', 'singapore', 'japan']"
            ]
          },
          "metadata": {},
          "execution_count": 11
        }
      ]
    },
    {
      "cell_type": "code",
      "source": [
        "# Append new country to the list (Points : 5)\n",
        "\n",
        "#Code goes here"
      ],
      "metadata": {
        "id": "FSU5QfExbKAh"
      },
      "execution_count": null,
      "outputs": []
    },
    {
      "cell_type": "code",
      "source": [
        "country.append(\"australia\")\n",
        "print(country)"
      ],
      "metadata": {
        "colab": {
          "base_uri": "https://localhost:8080/"
        },
        "id": "3z-_WORL8Iah",
        "outputId": "cacde369-c915-46bf-ad26-f8a989c5b41b"
      },
      "execution_count": null,
      "outputs": [
        {
          "output_type": "stream",
          "name": "stdout",
          "text": [
            "['indonesia', 'spain', 'singapore', 'japan', 'usa', 'india', 'mexico', 'australia']\n"
          ]
        }
      ]
    },
    {
      "cell_type": "code",
      "source": [
        "# Drop one country from the list (Points : 5)\n",
        "\n",
        "#Code goes here"
      ],
      "metadata": {
        "id": "DlvXbKlnbKGR"
      },
      "execution_count": null,
      "outputs": []
    },
    {
      "cell_type": "code",
      "source": [
        "country.remove(\"usa\")"
      ],
      "metadata": {
        "id": "l7YS2hd-867T"
      },
      "execution_count": null,
      "outputs": []
    },
    {
      "cell_type": "code",
      "source": [
        "# Get country in the last index (Points : 5)\n",
        "\n",
        "#Code goes here"
      ],
      "metadata": {
        "id": "F1NJ6JCQbKJ7"
      },
      "execution_count": null,
      "outputs": []
    },
    {
      "cell_type": "code",
      "source": [
        "print(country)"
      ],
      "metadata": {
        "colab": {
          "base_uri": "https://localhost:8080/"
        },
        "id": "SxY9yd5R9CLf",
        "outputId": "b9e36505-f277-4559-fa1a-b79c76a7abc7"
      },
      "execution_count": null,
      "outputs": [
        {
          "output_type": "stream",
          "name": "stdout",
          "text": [
            "['indonesia', 'spain', 'singapore', 'japan', 'india', 'mexico', 'australia']\n"
          ]
        }
      ]
    },
    {
      "cell_type": "code",
      "source": [
        "country[6]"
      ],
      "metadata": {
        "colab": {
          "base_uri": "https://localhost:8080/",
          "height": 35
        },
        "id": "c6RPCsAu9GMk",
        "outputId": "15ce0690-8dfe-4dd3-9ab2-15d008415a6b"
      },
      "execution_count": null,
      "outputs": [
        {
          "output_type": "execute_result",
          "data": {
            "text/plain": [
              "'australia'"
            ],
            "application/vnd.google.colaboratory.intrinsic+json": {
              "type": "string"
            }
          },
          "metadata": {},
          "execution_count": 29
        }
      ]
    },
    {
      "cell_type": "markdown",
      "source": [
        "# Dictionary Data Operation"
      ],
      "metadata": {
        "id": "Kfkq-SmIdJR6"
      }
    },
    {
      "cell_type": "markdown",
      "source": [
        "6. >  Follow the instructions below\n",
        "\n",
        "\n",
        "\n"
      ],
      "metadata": {
        "id": "WyJ8CJzdeMiS"
      }
    },
    {
      "cell_type": "code",
      "source": [
        "# Given the dictionary below\n",
        "\n",
        "customer={\n",
        "    \"name\":['Dio','Eka','Wayu','Riki'],\n",
        "    \"age\":[20,19,24,39],\n",
        "    \"gender\":[1,0,0,1],\n",
        "    \"membership\":['Platinum','Gold','Silver','Silver']\n",
        "}"
      ],
      "metadata": {
        "id": "fVHYIKLwdMfq"
      },
      "execution_count": null,
      "outputs": []
    },
    {
      "cell_type": "code",
      "source": [
        "# Print all customer names (Points : 5)\n",
        "\n",
        "#Code goes here"
      ],
      "metadata": {
        "id": "QiEMM94FeYrz"
      },
      "execution_count": null,
      "outputs": []
    },
    {
      "cell_type": "code",
      "source": [
        "customer={\n",
        "    \"name\":['Dio','Eka','Wayu','Riki'],\n",
        "    \"age\":[20,19,24,39],\n",
        "    \"gender\":[1,0,0,1],\n",
        "    \"membership\":['Platinum','Gold','Silver','Silver']\n",
        "}"
      ],
      "metadata": {
        "id": "7QoVyvYp5rVG"
      },
      "execution_count": null,
      "outputs": []
    },
    {
      "cell_type": "code",
      "source": [
        "dict.keys(customer)"
      ],
      "metadata": {
        "colab": {
          "base_uri": "https://localhost:8080/"
        },
        "id": "mVqAu3yv6V3v",
        "outputId": "ca1b0ab6-d169-4c16-903d-da471a7da29b"
      },
      "execution_count": null,
      "outputs": [
        {
          "output_type": "execute_result",
          "data": {
            "text/plain": [
              "dict_keys(['name', 'age', 'gender', 'membership'])"
            ]
          },
          "metadata": {},
          "execution_count": 17
        }
      ]
    },
    {
      "cell_type": "code",
      "source": [
        "print(customer)"
      ],
      "metadata": {
        "colab": {
          "base_uri": "https://localhost:8080/"
        },
        "id": "SXDLpIfZ5uQu",
        "outputId": "185a7ebd-d9d2-413e-87b0-71a42df8fd51"
      },
      "execution_count": null,
      "outputs": [
        {
          "output_type": "stream",
          "name": "stdout",
          "text": [
            "{'name': ['Dio', 'Eka', 'Wayu', 'Riki'], 'age': [20, 19, 24, 39], 'gender': [1, 0, 0, 1], 'membership': ['Platinum', 'Gold', 'Silver', 'Silver']}\n"
          ]
        }
      ]
    },
    {
      "cell_type": "code",
      "source": [
        "# Print the first customer name (Points : 5)\n",
        "\n",
        "#Code goes here"
      ],
      "metadata": {
        "id": "P2SeErUGgQ-D"
      },
      "execution_count": null,
      "outputs": []
    },
    {
      "cell_type": "code",
      "source": [
        "customer[\"name\"][0]"
      ],
      "metadata": {
        "colab": {
          "base_uri": "https://localhost:8080/",
          "height": 35
        },
        "id": "qPynjcKf54PT",
        "outputId": "6e8c1399-da7a-4268-e3c6-c192c4f18d51"
      },
      "execution_count": null,
      "outputs": [
        {
          "output_type": "execute_result",
          "data": {
            "text/plain": [
              "'Dio'"
            ],
            "application/vnd.google.colaboratory.intrinsic+json": {
              "type": "string"
            }
          },
          "metadata": {},
          "execution_count": 19
        }
      ]
    },
    {
      "cell_type": "code",
      "source": [
        "# Drop \"age\" key from the dictionary (Points : 5)\n",
        "\n",
        "#Code goes here"
      ],
      "metadata": {
        "id": "c3PlmHxueiPy"
      },
      "execution_count": null,
      "outputs": []
    },
    {
      "cell_type": "code",
      "source": [
        "del customer[\"age\"]"
      ],
      "metadata": {
        "id": "i7thwa__6QNr"
      },
      "execution_count": null,
      "outputs": []
    },
    {
      "cell_type": "code",
      "source": [
        "customer"
      ],
      "metadata": {
        "colab": {
          "base_uri": "https://localhost:8080/"
        },
        "id": "1wM2qLOK6iBa",
        "outputId": "9eb1dd3f-e7f8-42be-a339-0c8c10d5a7e6"
      },
      "execution_count": null,
      "outputs": [
        {
          "output_type": "execute_result",
          "data": {
            "text/plain": [
              "{'name': ['Dio', 'Eka', 'Wayu', 'Riki'],\n",
              " 'gender': [1, 0, 0, 1],\n",
              " 'membership': ['Platinum', 'Gold', 'Silver', 'Silver']}"
            ]
          },
          "metadata": {},
          "execution_count": 21
        }
      ]
    },
    {
      "cell_type": "code",
      "source": [
        "# Replace customer gender list value (Points : 20)\n",
        "# gender 1 => Male\n",
        "# gender 0 => Female \n",
        "\n",
        "\n",
        "#Code goes here"
      ],
      "metadata": {
        "id": "FgXDh9mIea9x"
      },
      "execution_count": null,
      "outputs": []
    },
    {
      "cell_type": "code",
      "source": [
        "customer[\"gender\"]=[\"male\",\"female\",\"female\",\"male\"]"
      ],
      "metadata": {
        "id": "HfTzHheXEJli"
      },
      "execution_count": null,
      "outputs": []
    },
    {
      "cell_type": "code",
      "source": [
        "customer"
      ],
      "metadata": {
        "colab": {
          "base_uri": "https://localhost:8080/"
        },
        "id": "z70l8D_iFI75",
        "outputId": "b53cd8fa-1b69-49e9-91ec-23b41a4d4a68"
      },
      "execution_count": null,
      "outputs": [
        {
          "output_type": "execute_result",
          "data": {
            "text/plain": [
              "{'name': ['Dio', 'Eka', 'Wayu', 'Riki'],\n",
              " 'gender': [1, 0, 0, 1],\n",
              " 'membership': ['Platinum', 'Gold', 'Silver', 'Silver']}"
            ]
          },
          "metadata": {},
          "execution_count": 22
        }
      ]
    }
  ]
}