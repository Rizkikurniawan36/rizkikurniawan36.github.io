{
  "nbformat": 4,
  "nbformat_minor": 0,
  "metadata": {
    "colab": {
      "provenance": [],
      "collapsed_sections": [],
      "authorship_tag": "ABX9TyNR6q6bSBhK/uYwPnINe1tF",
      "include_colab_link": true
    },
    "kernelspec": {
      "name": "python3",
      "display_name": "Python 3"
    },
    "language_info": {
      "name": "python"
    }
  },
  "cells": [
    {
      "cell_type": "markdown",
      "metadata": {
        "id": "view-in-github",
        "colab_type": "text"
      },
      "source": [
        "<a href=\"https://colab.research.google.com/github/Rizkikurniawan36/rizkikurniawan36.github.io/blob/main/Latihan.ipynb\" target=\"_parent\"><img src=\"https://colab.research.google.com/assets/colab-badge.svg\" alt=\"Open In Colab\"/></a>"
      ]
    },
    {
      "cell_type": "code",
      "execution_count": null,
      "metadata": {
        "id": "CcPPN6oWH1Ra"
      },
      "outputs": [],
      "source": []
    },
    {
      "cell_type": "markdown",
      "source": [
        "Python intro"
      ],
      "metadata": {
        "id": "ajhlynYcINVP"
      }
    },
    {
      "cell_type": "markdown",
      "source": [
        "Create Variabel"
      ],
      "metadata": {
        "id": "4te0otJ_Iw4v"
      }
    },
    {
      "cell_type": "code",
      "source": [
        "name=\"katak\""
      ],
      "metadata": {
        "id": "jJNfaIFZIyr7"
      },
      "execution_count": null,
      "outputs": []
    },
    {
      "cell_type": "markdown",
      "source": [],
      "metadata": {
        "id": "3Pmu8XNFJjrM"
      }
    },
    {
      "cell_type": "code",
      "source": [
        "1+5\n",
        "5**6"
      ],
      "metadata": {
        "colab": {
          "base_uri": "https://localhost:8080/"
        },
        "id": "_ZOtmbt8KNJH",
        "outputId": "23a07b20-2c0a-4541-b782-106454fff0fc"
      },
      "execution_count": null,
      "outputs": [
        {
          "output_type": "execute_result",
          "data": {
            "text/plain": [
              "15625"
            ]
          },
          "metadata": {},
          "execution_count": 8
        }
      ]
    },
    {
      "cell_type": "code",
      "source": [
        "4/3\n",
        "2**3\n",
        "4**0.6"
      ],
      "metadata": {
        "colab": {
          "base_uri": "https://localhost:8080/"
        },
        "id": "Uu6QlmczKbQm",
        "outputId": "95d91286-9eae-497b-ec45-98ac3bf6bc9d"
      },
      "execution_count": null,
      "outputs": [
        {
          "output_type": "execute_result",
          "data": {
            "text/plain": [
              "2.2973967099940698"
            ]
          },
          "metadata": {},
          "execution_count": 9
        }
      ]
    },
    {
      "cell_type": "code",
      "source": [
        "6**5"
      ],
      "metadata": {
        "colab": {
          "base_uri": "https://localhost:8080/"
        },
        "id": "SlmmjRGhKnSg",
        "outputId": "23cb79ca-fe62-49c9-c634-c19865aaedf8"
      },
      "execution_count": null,
      "outputs": [
        {
          "output_type": "execute_result",
          "data": {
            "text/plain": [
              "7776"
            ]
          },
          "metadata": {},
          "execution_count": 10
        }
      ]
    },
    {
      "cell_type": "code",
      "source": [],
      "metadata": {
        "id": "uADVbLTeKvSL"
      },
      "execution_count": null,
      "outputs": []
    },
    {
      "cell_type": "code",
      "source": [
        "6==5"
      ],
      "metadata": {
        "colab": {
          "base_uri": "https://localhost:8080/"
        },
        "id": "xsZ9l0ouKwjR",
        "outputId": "be155a6a-4a02-4ec9-dce2-bd1dde519968"
      },
      "execution_count": null,
      "outputs": [
        {
          "output_type": "execute_result",
          "data": {
            "text/plain": [
              "False"
            ]
          },
          "metadata": {},
          "execution_count": 11
        }
      ]
    },
    {
      "cell_type": "code",
      "source": [
        "6>=5"
      ],
      "metadata": {
        "colab": {
          "base_uri": "https://localhost:8080/"
        },
        "id": "BB3jNwgXK2kH",
        "outputId": "e69dfd73-35c9-4634-9c58-2b588f725211"
      },
      "execution_count": null,
      "outputs": [
        {
          "output_type": "execute_result",
          "data": {
            "text/plain": [
              "True"
            ]
          },
          "metadata": {},
          "execution_count": 12
        }
      ]
    },
    {
      "cell_type": "code",
      "source": [
        "price=500\n",
        "quantity=10\n",
        "\n",
        "total=price*quantity\n",
        "total"
      ],
      "metadata": {
        "colab": {
          "base_uri": "https://localhost:8080/"
        },
        "id": "Z94dkvN-K6qR",
        "outputId": "38f1999f-de14-4f7f-f9cf-afae4a9cc9ab"
      },
      "execution_count": null,
      "outputs": [
        {
          "output_type": "execute_result",
          "data": {
            "text/plain": [
              "5000"
            ]
          },
          "metadata": {},
          "execution_count": 24
        }
      ]
    },
    {
      "cell_type": "code",
      "source": [
        "first_name=\"katak\"\n",
        "last_name=\"petapa\"\n",
        "\n",
        "full_name=(first_name+last_name)\n",
        "print(full_name)\n",
        "\n",
        "print(full_name.upper())\n",
        "print(full_name.lower())"
      ],
      "metadata": {
        "colab": {
          "base_uri": "https://localhost:8080/"
        },
        "id": "OcrWsVzsL5Zc",
        "outputId": "36afc30a-88eb-4780-8a98-45774eb86f58"
      },
      "execution_count": null,
      "outputs": [
        {
          "output_type": "stream",
          "name": "stdout",
          "text": [
            "katakpetapa\n",
            "KATAKPETAPA\n",
            "katakpetapa\n"
          ]
        }
      ]
    },
    {
      "cell_type": "code",
      "source": [
        "name=\"katak\"\n",
        "name.replace(\"ka\",\"tak\")"
      ],
      "metadata": {
        "colab": {
          "base_uri": "https://localhost:8080/",
          "height": 35
        },
        "id": "ZS2c4nSHMj41",
        "outputId": "b919e511-2097-4939-9829-5c64ab5b30c0"
      },
      "execution_count": null,
      "outputs": [
        {
          "output_type": "execute_result",
          "data": {
            "text/plain": [
              "'taktak'"
            ],
            "application/vnd.google.colaboratory.intrinsic+json": {
              "type": "string"
            }
          },
          "metadata": {},
          "execution_count": 34
        }
      ]
    },
    {
      "cell_type": "code",
      "source": [
        "name=\"katakpetapa\"\n",
        "name.replace(\"kodok\",\"\")"
      ],
      "metadata": {
        "colab": {
          "base_uri": "https://localhost:8080/",
          "height": 35
        },
        "id": "ySjTcIaiLx-K",
        "outputId": "edefbf9b-7b58-4594-913e-72db414a18b2"
      },
      "execution_count": null,
      "outputs": [
        {
          "output_type": "execute_result",
          "data": {
            "text/plain": [
              "'katakpetapa'"
            ],
            "application/vnd.google.colaboratory.intrinsic+json": {
              "type": "string"
            }
          },
          "metadata": {},
          "execution_count": 37
        }
      ]
    },
    {
      "cell_type": "code",
      "source": [
        "nama=\"kodok\"\n",
        "\n",
        "nama==\"katak\""
      ],
      "metadata": {
        "colab": {
          "base_uri": "https://localhost:8080/"
        },
        "id": "s756keySOTTp",
        "outputId": "a4b9bbcd-3cae-421b-a32c-b5fbea00aea8"
      },
      "execution_count": null,
      "outputs": [
        {
          "output_type": "execute_result",
          "data": {
            "text/plain": [
              "False"
            ]
          },
          "metadata": {},
          "execution_count": 38
        }
      ]
    },
    {
      "cell_type": "code",
      "source": [
        "phone_number=\"+62801-0029-9000\"\n",
        "phone_number=phone_number.replace(\"+628\",\"0\")\n",
        "phone_number=phone_number.replace(\"-\",\"\")\n",
        "print(phone_number)\n",
        "\n",
        "\n",
        "\n",
        "\n"
      ],
      "metadata": {
        "colab": {
          "base_uri": "https://localhost:8080/"
        },
        "id": "KCXdGNqWOeZm",
        "outputId": "dbfaa7f6-8070-41f5-e8f9-242b4ce67c9c"
      },
      "execution_count": null,
      "outputs": [
        {
          "output_type": "stream",
          "name": "stdout",
          "text": [
            "00100299000\n"
          ]
        }
      ]
    },
    {
      "cell_type": "code",
      "source": [
        "bakso=\"20000\"\n",
        "nasgor=\"15000\"\n",
        "sate=\"30000\"\n",
        "\n",
        "(bakso>nasgor) and (nasgor<sate)\n"
      ],
      "metadata": {
        "colab": {
          "base_uri": "https://localhost:8080/"
        },
        "id": "PYCeM25OQ87f",
        "outputId": "5fe1cbf1-0251-4997-a7f9-7de275b9bca9"
      },
      "execution_count": null,
      "outputs": [
        {
          "output_type": "execute_result",
          "data": {
            "text/plain": [
              "True"
            ]
          },
          "metadata": {},
          "execution_count": 61
        }
      ]
    },
    {
      "cell_type": "code",
      "source": [
        "bakso=\"20000\"\n",
        "nasgor=\"15000\"\n",
        "sate=\"30000\"\n",
        "(bakso>nasgor)|(nasgor<sate)"
      ],
      "metadata": {
        "colab": {
          "base_uri": "https://localhost:8080/"
        },
        "id": "n9L9GCTNRz3c",
        "outputId": "5917f747-bdae-49e4-ea6d-bbc965d0ac7f"
      },
      "execution_count": null,
      "outputs": [
        {
          "output_type": "execute_result",
          "data": {
            "text/plain": [
              "True"
            ]
          },
          "metadata": {},
          "execution_count": 62
        }
      ]
    },
    {
      "cell_type": "code",
      "source": [
        "name=\"katak\"\n",
        "age=\"19\"\n",
        "age=str(age)\n",
        "name+age"
      ],
      "metadata": {
        "colab": {
          "base_uri": "https://localhost:8080/",
          "height": 35
        },
        "id": "ns2hBCjVSBDY",
        "outputId": "2e30b39a-4c3a-4e2d-f447-81574e6acd12"
      },
      "execution_count": null,
      "outputs": [
        {
          "output_type": "execute_result",
          "data": {
            "text/plain": [
              "'katak19'"
            ],
            "application/vnd.google.colaboratory.intrinsic+json": {
              "type": "string"
            }
          },
          "metadata": {},
          "execution_count": 63
        }
      ]
    },
    {
      "cell_type": "code",
      "source": [
        "age=\"16\"\n",
        "age=int(age)\n",
        "print=(age)\n",
        "\n",
        "\n"
      ],
      "metadata": {
        "id": "f0GJEz24RoWa"
      },
      "execution_count": null,
      "outputs": []
    },
    {
      "cell_type": "code",
      "source": [
        "new_list=[]\n",
        "new_list\n"
      ],
      "metadata": {
        "colab": {
          "base_uri": "https://localhost:8080/"
        },
        "id": "s1Y9aMNMTOPl",
        "outputId": "71485ee0-f673-4257-87ab-221d00e8ccb3"
      },
      "execution_count": null,
      "outputs": [
        {
          "output_type": "execute_result",
          "data": {
            "text/plain": [
              "[]"
            ]
          },
          "metadata": {},
          "execution_count": 79
        }
      ]
    },
    {
      "cell_type": "code",
      "source": [
        "new_list=[\"bakso\",\"soto\",\"nasgor\"]\n",
        "new_list"
      ],
      "metadata": {
        "colab": {
          "base_uri": "https://localhost:8080/"
        },
        "id": "1pVFToy2T1OW",
        "outputId": "e71f5686-8353-44ac-839a-1a06572ef7ba"
      },
      "execution_count": null,
      "outputs": [
        {
          "output_type": "execute_result",
          "data": {
            "text/plain": [
              "['bakso', 'soto', 'nasgor']"
            ]
          },
          "metadata": {},
          "execution_count": 80
        }
      ]
    },
    {
      "cell_type": "code",
      "source": [
        "new_list=[\"katak\",20,\"Ekmet\",10.5]\n",
        "new_list"
      ],
      "metadata": {
        "colab": {
          "base_uri": "https://localhost:8080/"
        },
        "id": "NjA0RQ2DUDaE",
        "outputId": "53b589e2-ca2c-4b5b-dade-848aceb1fe90"
      },
      "execution_count": null,
      "outputs": [
        {
          "output_type": "execute_result",
          "data": {
            "text/plain": [
              "['katak', 20, 'Ekmet', 10.5]"
            ]
          },
          "metadata": {},
          "execution_count": 83
        }
      ]
    },
    {
      "cell_type": "code",
      "source": [
        "new_list=[[\"kediri\",\"jakarta\"],[\"batam\",\"sby\"]]\n",
        "new_list"
      ],
      "metadata": {
        "colab": {
          "base_uri": "https://localhost:8080/"
        },
        "id": "fKOQFljATx7y",
        "outputId": "9d62da76-f825-459b-aa18-ad1191051566"
      },
      "execution_count": null,
      "outputs": [
        {
          "output_type": "execute_result",
          "data": {
            "text/plain": [
              "[['kediri', 'jakarta'], ['batam', 'sby']]"
            ]
          },
          "metadata": {},
          "execution_count": 84
        }
      ]
    },
    {
      "cell_type": "code",
      "source": [
        "foods=[\"bakso\",\"soto\",\"nasgor\",\"sate\",\"tahu\",\"tempe\"]\n",
        "foods[:4]\n",
        "\n",
        "\n",
        "\n",
        "\n"
      ],
      "metadata": {
        "colab": {
          "base_uri": "https://localhost:8080/"
        },
        "id": "ZsHQQGhxU9mZ",
        "outputId": "33e280b5-3418-4339-e15d-7334fc37969c"
      },
      "execution_count": null,
      "outputs": [
        {
          "output_type": "execute_result",
          "data": {
            "text/plain": [
              "['bakso', 'soto', 'nasgor', 'sate']"
            ]
          },
          "metadata": {},
          "execution_count": 132
        }
      ]
    },
    {
      "cell_type": "code",
      "source": [
        "foods=[\"bakso\",\"soto\",\"nasgor\",\"sate\",\"tahu\",\"tempe\"]\n",
        "foods\n"
      ],
      "metadata": {
        "colab": {
          "base_uri": "https://localhost:8080/"
        },
        "id": "T0DCESQVXZ0B",
        "outputId": "36f41489-e74a-4e6f-b2cd-82fd49f9c14c"
      },
      "execution_count": null,
      "outputs": [
        {
          "output_type": "execute_result",
          "data": {
            "text/plain": [
              "['bakso', 'soto', 'nasgor', 'sate', 'tahu', 'tempe']"
            ]
          },
          "metadata": {},
          "execution_count": 133
        }
      ]
    },
    {
      "cell_type": "code",
      "source": [
        "foods.append(\"seblak\")"
      ],
      "metadata": {
        "id": "dlrVP4-Ga-uK"
      },
      "execution_count": null,
      "outputs": []
    },
    {
      "cell_type": "code",
      "source": [
        "foods"
      ],
      "metadata": {
        "colab": {
          "base_uri": "https://localhost:8080/"
        },
        "id": "gQ1V_lhYbijR",
        "outputId": "16e8e895-06e0-44a2-cefe-9091dd478bd9"
      },
      "execution_count": null,
      "outputs": [
        {
          "output_type": "execute_result",
          "data": {
            "text/plain": [
              "['bakso', 'soto', 'nasgor', 'sate', 'tahu', 'tempe', 'seblak']"
            ]
          },
          "metadata": {},
          "execution_count": 135
        }
      ]
    },
    {
      "cell_type": "code",
      "source": [
        "foods.remove(\"seblak\")"
      ],
      "metadata": {
        "id": "AhyEgTL8bkeG"
      },
      "execution_count": null,
      "outputs": []
    },
    {
      "cell_type": "code",
      "source": [
        "foods"
      ],
      "metadata": {
        "colab": {
          "base_uri": "https://localhost:8080/"
        },
        "id": "lDBcHrrxbo3V",
        "outputId": "63b269ee-f3ae-4cc6-e4bd-d3a631b52866"
      },
      "execution_count": null,
      "outputs": [
        {
          "output_type": "execute_result",
          "data": {
            "text/plain": [
              "['bakso', 'soto', 'nasgor', 'sate', 'tahu', 'tempe']"
            ]
          },
          "metadata": {},
          "execution_count": 137
        }
      ]
    },
    {
      "cell_type": "code",
      "source": [
        "len(foods)"
      ],
      "metadata": {
        "colab": {
          "base_uri": "https://localhost:8080/"
        },
        "id": "Y2IOI27lbpvE",
        "outputId": "18435691-8e16-4cca-edc4-205a00f79252"
      },
      "execution_count": null,
      "outputs": [
        {
          "output_type": "execute_result",
          "data": {
            "text/plain": [
              "6"
            ]
          },
          "metadata": {},
          "execution_count": 138
        }
      ]
    },
    {
      "cell_type": "code",
      "source": [
        "multi_dimension_list=[[\"kediri\",\"jakarta\"],[\"batam\",\"sby\"]]"
      ],
      "metadata": {
        "id": "nzYBYDVZb3py"
      },
      "execution_count": null,
      "outputs": []
    },
    {
      "cell_type": "code",
      "source": [
        "multi_dimension_list[0]"
      ],
      "metadata": {
        "colab": {
          "base_uri": "https://localhost:8080/"
        },
        "id": "VtPl_oofcDa5",
        "outputId": "71e4737e-dd01-4123-e94b-3059126f20e3"
      },
      "execution_count": null,
      "outputs": [
        {
          "output_type": "execute_result",
          "data": {
            "text/plain": [
              "['kediri', 'jakarta']"
            ]
          },
          "metadata": {},
          "execution_count": 140
        }
      ]
    },
    {
      "cell_type": "code",
      "source": [
        "multi_dimension_list[1][1]"
      ],
      "metadata": {
        "colab": {
          "base_uri": "https://localhost:8080/",
          "height": 35
        },
        "id": "fQ2BlRrLcKMD",
        "outputId": "f2fb381e-a056-42bc-b6ee-aaf476dccdc9"
      },
      "execution_count": null,
      "outputs": [
        {
          "output_type": "execute_result",
          "data": {
            "text/plain": [
              "'sby'"
            ],
            "application/vnd.google.colaboratory.intrinsic+json": {
              "type": "string"
            }
          },
          "metadata": {},
          "execution_count": 143
        }
      ]
    },
    {
      "cell_type": "code",
      "source": [
        "num_list=['12','14',[16,20,30]]\n",
        "num_list[1]"
      ],
      "metadata": {
        "colab": {
          "base_uri": "https://localhost:8080/",
          "height": 35
        },
        "id": "9qeZpgfudrQA",
        "outputId": "928320c9-08fa-4ae0-f757-08af27be1647"
      },
      "execution_count": null,
      "outputs": [
        {
          "output_type": "execute_result",
          "data": {
            "text/plain": [
              "'14'"
            ],
            "application/vnd.google.colaboratory.intrinsic+json": {
              "type": "string"
            }
          },
          "metadata": {},
          "execution_count": 159
        }
      ]
    },
    {
      "cell_type": "code",
      "source": [
        "num_list[2]"
      ],
      "metadata": {
        "colab": {
          "base_uri": "https://localhost:8080/"
        },
        "id": "FY3qoyqod5nM",
        "outputId": "76bfc2b4-a085-449a-a23f-6db22546bd5b"
      },
      "execution_count": null,
      "outputs": [
        {
          "output_type": "execute_result",
          "data": {
            "text/plain": [
              "[16, 20, 30]"
            ]
          },
          "metadata": {},
          "execution_count": 160
        }
      ]
    },
    {
      "cell_type": "code",
      "source": [
        "num_list[2][1]"
      ],
      "metadata": {
        "colab": {
          "base_uri": "https://localhost:8080/"
        },
        "id": "tqMLAzmOeGl_",
        "outputId": "26d945c6-43f7-4998-c54a-2ca8e6f3396a"
      },
      "execution_count": null,
      "outputs": [
        {
          "output_type": "execute_result",
          "data": {
            "text/plain": [
              "20"
            ]
          },
          "metadata": {},
          "execution_count": 161
        }
      ]
    },
    {
      "cell_type": "code",
      "source": [
        "numbers=[2,3,6,20,22]"
      ],
      "metadata": {
        "id": "9ptZST1cga19"
      },
      "execution_count": null,
      "outputs": []
    },
    {
      "cell_type": "code",
      "source": [
        "min"
      ],
      "metadata": {
        "colab": {
          "base_uri": "https://localhost:8080/"
        },
        "id": "lW2GeQfeggqt",
        "outputId": "847603f0-d62b-4a30-d9e7-bdb26cd929f1"
      },
      "execution_count": null,
      "outputs": [
        {
          "output_type": "execute_result",
          "data": {
            "text/plain": [
              "[2, 3, 6, 20, 22]"
            ]
          },
          "metadata": {},
          "execution_count": 67
        }
      ]
    },
    {
      "cell_type": "code",
      "source": [
        "numbers[1:4]"
      ],
      "metadata": {
        "colab": {
          "base_uri": "https://localhost:8080/"
        },
        "id": "INljpu4Vgsbv",
        "outputId": "35b2fd3b-fcb2-439c-dfb8-d474114e4d89"
      },
      "execution_count": null,
      "outputs": [
        {
          "output_type": "execute_result",
          "data": {
            "text/plain": [
              "[3, 6, 20]"
            ]
          },
          "metadata": {},
          "execution_count": 69
        }
      ]
    },
    {
      "cell_type": "code",
      "source": [
        "numbers.append(50)"
      ],
      "metadata": {
        "id": "za5hBt1zgwrv"
      },
      "execution_count": null,
      "outputs": []
    },
    {
      "cell_type": "code",
      "source": [
        "numbers"
      ],
      "metadata": {
        "colab": {
          "base_uri": "https://localhost:8080/"
        },
        "id": "DK5m0_Esg7_J",
        "outputId": "c3727bf5-0cb2-4ca1-f6a6-ab67d97689c3"
      },
      "execution_count": null,
      "outputs": [
        {
          "output_type": "execute_result",
          "data": {
            "text/plain": [
              "[2, 3, 6, 20, 22, 50, 50]"
            ]
          },
          "metadata": {},
          "execution_count": 72
        }
      ]
    },
    {
      "cell_type": "code",
      "source": [
        "new_dict={}"
      ],
      "metadata": {
        "id": "d22dSOp8g-tX"
      },
      "execution_count": 1,
      "outputs": []
    },
    {
      "cell_type": "code",
      "source": [
        "fruit_dict={\n",
        "          \"name\":[\"Aple\",\"jeruk\"],\n",
        "          \"color\":[\"red\",\"yellow\"],\n",
        "          \"quantity\":[\"20\",\"30\"]\n",
        "            }"
      ],
      "metadata": {
        "id": "-4uDhLMroHwo"
      },
      "execution_count": 2,
      "outputs": []
    },
    {
      "cell_type": "code",
      "source": [
        "laptop_dict={\n",
        "            \"brand\":[\"samsung\",\"Dell\",\"Apple\"],\n",
        "             \"Type\":[\"PC\",\"laptop\",\"Tablet\"],\n",
        "             \"stock\":[\"27\",\"20\",\"10\"]\n",
        "             }"
      ],
      "metadata": {
        "id": "Exy5krTKpD8D"
      },
      "execution_count": 4,
      "outputs": []
    },
    {
      "cell_type": "code",
      "source": [
        "dict.keys(laptop_dict)"
      ],
      "metadata": {
        "colab": {
          "base_uri": "https://localhost:8080/"
        },
        "id": "47rjF5J6qiTC",
        "outputId": "f0877c6c-52f4-4d26-b548-e084db2f622a"
      },
      "execution_count": 6,
      "outputs": [
        {
          "output_type": "execute_result",
          "data": {
            "text/plain": [
              "dict_keys(['brand', 'Type', 'stock'])"
            ]
          },
          "metadata": {},
          "execution_count": 6
        }
      ]
    },
    {
      "cell_type": "code",
      "source": [
        "fruit_dict[\"name\"]"
      ],
      "metadata": {
        "colab": {
          "base_uri": "https://localhost:8080/"
        },
        "id": "yfv4edP3rhkU",
        "outputId": "c7b5b7ec-4779-4f8a-d551-1e4d331ba3d3"
      },
      "execution_count": 7,
      "outputs": [
        {
          "output_type": "execute_result",
          "data": {
            "text/plain": [
              "['Aple', 'jeruk']"
            ]
          },
          "metadata": {},
          "execution_count": 7
        }
      ]
    },
    {
      "cell_type": "code",
      "source": [
        "fruit_dict[\"color\"][1]"
      ],
      "metadata": {
        "colab": {
          "base_uri": "https://localhost:8080/",
          "height": 35
        },
        "id": "hXiz6DXZr7yi",
        "outputId": "fca5f1a1-5d73-4ad9-9371-d7dc4ff4a918"
      },
      "execution_count": 8,
      "outputs": [
        {
          "output_type": "execute_result",
          "data": {
            "text/plain": [
              "'yellow'"
            ],
            "application/vnd.google.colaboratory.intrinsic+json": {
              "type": "string"
            }
          },
          "metadata": {},
          "execution_count": 8
        }
      ]
    },
    {
      "cell_type": "code",
      "source": [
        "dict.keys(fruit_dict)"
      ],
      "metadata": {
        "colab": {
          "base_uri": "https://localhost:8080/"
        },
        "id": "1BbqIAKEsJgU",
        "outputId": "16470a00-6df8-4cf9-9504-0568be36a24a"
      },
      "execution_count": 9,
      "outputs": [
        {
          "output_type": "execute_result",
          "data": {
            "text/plain": [
              "dict_keys(['name', 'color', 'quantity'])"
            ]
          },
          "metadata": {},
          "execution_count": 9
        }
      ]
    },
    {
      "cell_type": "code",
      "source": [
        "fruit_dict[\"quantity\"]"
      ],
      "metadata": {
        "colab": {
          "base_uri": "https://localhost:8080/"
        },
        "id": "VjrLF-tqsjmu",
        "outputId": "894c573f-c5ab-4d8e-8961-f3430f09f8fd"
      },
      "execution_count": 10,
      "outputs": [
        {
          "output_type": "execute_result",
          "data": {
            "text/plain": [
              "['20', '30']"
            ]
          },
          "metadata": {},
          "execution_count": 10
        }
      ]
    },
    {
      "cell_type": "code",
      "source": [
        "fruit_dict[\"name\"]=[\"nangka\",\"grape\"]"
      ],
      "metadata": {
        "id": "cWZtrJTmtOtA"
      },
      "execution_count": 11,
      "outputs": []
    },
    {
      "cell_type": "code",
      "source": [
        "fruit_dict[\"name\"][1]=['semangka']\n",
        "fruit_dict"
      ],
      "metadata": {
        "colab": {
          "base_uri": "https://localhost:8080/"
        },
        "id": "BZVf3KvftegO",
        "outputId": "8ab0ee90-d399-4bc1-ce88-46e40b9b417e"
      },
      "execution_count": 14,
      "outputs": [
        {
          "output_type": "execute_result",
          "data": {
            "text/plain": [
              "{'name': ['nangka', ['semangka']],\n",
              " 'color': ['red', 'yellow'],\n",
              " 'quantity': ['20', '30']}"
            ]
          },
          "metadata": {},
          "execution_count": 14
        }
      ]
    },
    {
      "cell_type": "code",
      "source": [
        "students={\n",
        "          \"name\":[\"budi\",\"jessica\"],\n",
        "          \"age\":[\"12\",\"24\"]\n",
        "        }"
      ],
      "metadata": {
        "id": "M_bJYcQst2np"
      },
      "execution_count": 15,
      "outputs": []
    },
    {
      "cell_type": "code",
      "source": [
        "students[\"name\"]=[\"Arya\",\"yusuf\"]"
      ],
      "metadata": {
        "id": "iEcSpxHZuLCy"
      },
      "execution_count": 16,
      "outputs": []
    },
    {
      "cell_type": "code",
      "source": [
        "students[\"age\"][0]=[\"22\"]"
      ],
      "metadata": {
        "id": "-6XyADQfuT06"
      },
      "execution_count": 17,
      "outputs": []
    },
    {
      "cell_type": "code",
      "source": [
        "students"
      ],
      "metadata": {
        "colab": {
          "base_uri": "https://localhost:8080/"
        },
        "id": "skTHMsGxuc6s",
        "outputId": "f217c40d-a8d9-48e6-d9b8-5907912b3166"
      },
      "execution_count": 18,
      "outputs": [
        {
          "output_type": "execute_result",
          "data": {
            "text/plain": [
              "{'name': ['Arya', 'yusuf'], 'age': [['22'], '24']}"
            ]
          },
          "metadata": {},
          "execution_count": 18
        }
      ]
    },
    {
      "cell_type": "code",
      "source": [
        "students.update({\n",
        "                  \"Hobby\":[\"belajar\",\"game\",\"ngopi\"],\n",
        "              \n",
        "\n",
        "})"
      ],
      "metadata": {
        "id": "Uz0Kc-66u-F5"
      },
      "execution_count": 19,
      "outputs": []
    },
    {
      "cell_type": "code",
      "source": [
        "students"
      ],
      "metadata": {
        "colab": {
          "base_uri": "https://localhost:8080/"
        },
        "id": "8mdPfmBevqhx",
        "outputId": "27d4874a-f28b-414d-d429-bf53016e970e"
      },
      "execution_count": 20,
      "outputs": [
        {
          "output_type": "execute_result",
          "data": {
            "text/plain": [
              "{'name': ['Arya', 'yusuf'],\n",
              " 'age': [['22'], '24'],\n",
              " 'Hobby': ['belajar', 'game', 'ngopi']}"
            ]
          },
          "metadata": {},
          "execution_count": 20
        }
      ]
    },
    {
      "cell_type": "code",
      "source": [
        "students[\"name\"].append(\"wawan\")"
      ],
      "metadata": {
        "id": "8FmvdTEjvrrx"
      },
      "execution_count": 21,
      "outputs": []
    },
    {
      "cell_type": "code",
      "source": [
        "students"
      ],
      "metadata": {
        "colab": {
          "base_uri": "https://localhost:8080/"
        },
        "id": "ykF35Yfpv6j5",
        "outputId": "1341c251-9610-4a4a-e73c-3db3be4af568"
      },
      "execution_count": 22,
      "outputs": [
        {
          "output_type": "execute_result",
          "data": {
            "text/plain": [
              "{'name': ['Arya', 'yusuf', 'wawan'],\n",
              " 'age': [['22'], '24'],\n",
              " 'Hobby': ['belajar', 'game', 'ngopi']}"
            ]
          },
          "metadata": {},
          "execution_count": 22
        }
      ]
    },
    {
      "cell_type": "code",
      "source": [
        "students[\"name\"].append(\"Budi\")"
      ],
      "metadata": {
        "id": "VyXFMnEmv81T"
      },
      "execution_count": 24,
      "outputs": []
    },
    {
      "cell_type": "code",
      "source": [
        "students[\"name\"].append(\"jessica\")"
      ],
      "metadata": {
        "id": "geUU9uxrwTo3"
      },
      "execution_count": 25,
      "outputs": []
    },
    {
      "cell_type": "code",
      "source": [
        "students[\"name\"].append(\"amar\")"
      ],
      "metadata": {
        "id": "72F2Hlopwil5"
      },
      "execution_count": 27,
      "outputs": []
    },
    {
      "cell_type": "code",
      "source": [
        "students.update({\n",
        "    \"male\":[\"male\",\"famale\"]\n",
        "})"
      ],
      "metadata": {
        "id": "21Je0f3wwXIg"
      },
      "execution_count": 26,
      "outputs": []
    },
    {
      "cell_type": "code",
      "source": [
        "students"
      ],
      "metadata": {
        "colab": {
          "base_uri": "https://localhost:8080/"
        },
        "id": "0t3yQIpgwmHn",
        "outputId": "09373d9e-3a9f-4792-d531-6e9a88197ab0"
      },
      "execution_count": 28,
      "outputs": [
        {
          "output_type": "execute_result",
          "data": {
            "text/plain": [
              "{'name': ['Arya', 'yusuf', 'wawan', 'Budi', 'jessica', 'amar'],\n",
              " 'age': [['22'], '24'],\n",
              " 'Hobby': ['belajar', 'game', 'ngopi'],\n",
              " 'male': ['male', 'famale']}"
            ]
          },
          "metadata": {},
          "execution_count": 28
        }
      ]
    },
    {
      "cell_type": "code",
      "source": [
        "del students[\"Hobby\"]"
      ],
      "metadata": {
        "id": "D6sHbCmawzRI"
      },
      "execution_count": 32,
      "outputs": []
    },
    {
      "cell_type": "code",
      "source": [
        "students[\"name\"].remove(\"amar\")"
      ],
      "metadata": {
        "id": "zDaLTQr_xWXN"
      },
      "execution_count": 33,
      "outputs": []
    },
    {
      "cell_type": "code",
      "source": [
        "students"
      ],
      "metadata": {
        "colab": {
          "base_uri": "https://localhost:8080/"
        },
        "id": "AEzj53yCxhYn",
        "outputId": "8fa7823f-a3c8-4e90-d3c1-a585d71f66a2"
      },
      "execution_count": 34,
      "outputs": [
        {
          "output_type": "execute_result",
          "data": {
            "text/plain": [
              "{'name': ['Arya', 'yusuf', 'wawan', 'Budi', 'jessica'], 'age': [['22'], '24']}"
            ]
          },
          "metadata": {},
          "execution_count": 34
        }
      ]
    },
    {
      "cell_type": "code",
      "source": [
        "students[\"name\"].remove(\"Budi\")"
      ],
      "metadata": {
        "id": "9tw5gU0Jxk5a"
      },
      "execution_count": 36,
      "outputs": []
    },
    {
      "cell_type": "code",
      "source": [
        "del students[\"age\"]"
      ],
      "metadata": {
        "id": "8kAR4XhzxyNz"
      },
      "execution_count": 37,
      "outputs": []
    },
    {
      "cell_type": "code",
      "source": [
        "students"
      ],
      "metadata": {
        "colab": {
          "base_uri": "https://localhost:8080/"
        },
        "id": "kmYooYuYx345",
        "outputId": "3c68b438-961b-43be-b6aa-d9284491189e"
      },
      "execution_count": 38,
      "outputs": [
        {
          "output_type": "execute_result",
          "data": {
            "text/plain": [
              "{'name': ['Arya', 'yusuf', 'wawan', 'jessica']}"
            ]
          },
          "metadata": {},
          "execution_count": 38
        }
      ]
    }
  ]
}